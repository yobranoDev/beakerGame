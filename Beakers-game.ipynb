{
 "cells": [
  {
   "cell_type": "code",
   "execution_count": 1,
   "id": "2d2ea403",
   "metadata": {},
   "outputs": [],
   "source": [
    "import numpy as np"
   ]
  },
  {
   "cell_type": "code",
   "execution_count": 60,
   "id": "2708420a",
   "metadata": {},
   "outputs": [
    {
     "name": "stdout",
     "output_type": "stream",
     "text": [
      "How many beakers:  3\n",
      "How many partitions in each beaker:  2\n"
     ]
    },
    {
     "name": "stdout",
     "output_type": "stream",
     "text": [
      "\n",
      "Beaker 0:\n"
     ]
    },
    {
     "name": "stdout",
     "output_type": "stream",
     "text": [
      "Enter color in partition 1: 1\n",
      "Enter color in partition 2: 2\n"
     ]
    },
    {
     "name": "stdout",
     "output_type": "stream",
     "text": [
      "\n",
      "Beaker 1:\n"
     ]
    },
    {
     "name": "stdout",
     "output_type": "stream",
     "text": [
      "Enter color in partition 1: whole empty\n"
     ]
    },
    {
     "name": "stdout",
     "output_type": "stream",
     "text": [
      "\n",
      "Beaker 2:\n"
     ]
    },
    {
     "name": "stdout",
     "output_type": "stream",
     "text": [
      "Enter color in partition 1: empty\n",
      "Enter color in partition 2: 1\n"
     ]
    },
    {
     "data": {
      "text/plain": [
       "(['empty', '1', '2'], [[1, 2], [0, 0], [0, 1]])"
      ]
     },
     "execution_count": 60,
     "metadata": {},
     "output_type": "execute_result"
    }
   ],
   "source": [
    "def genBeakers():\n",
    "    colors = [\"\"]\n",
    "    beakers = []\n",
    "    \n",
    "    bkrNum = int(input(\"How many beakers: \"))\n",
    "    ptnNum = int(input(\"How many partitions in each beaker: \"))\n",
    "\n",
    "    for bkr in range(bkrNum):\n",
    "        beaker = []\n",
    "        print(f\"\\nBeaker {bkr}:\")\n",
    "\n",
    "        for part in range(ptnNum):\n",
    "            color = input(f\"Enter color in partition {part + 1}:\")\n",
    "            colIdx = None\n",
    "\n",
    "            if color == \"whole empty\" and part==0:\n",
    "                beaker = [0]*ptnNum\n",
    "                break\n",
    "\n",
    "            if color in colors: \n",
    "                colIdx = colors.index(color)\n",
    "            else: \n",
    "                colors.append(color)\n",
    "                colIdx = colors.index(color)\n",
    "\n",
    "            beaker.append(colIdx)\n",
    "\n",
    "        beakers.append(beaker)\n",
    "        \n",
    "    colors[0] = \"empty\"\n",
    "    return colors, beakers\n",
    "        \n",
    "        \n",
    "genBeakers()"
   ]
  },
  {
   "cell_type": "code",
   "execution_count": 101,
   "id": "1c769823",
   "metadata": {},
   "outputs": [],
   "source": [
    "colors, beakers = (['empty', '1', '2'], [[1, 2], [0, 0], [0, 0]])"
   ]
  },
  {
   "cell_type": "code",
   "execution_count": 102,
   "id": "3e56de9f",
   "metadata": {},
   "outputs": [
    {
     "name": "stdout",
     "output_type": "stream",
     "text": [
      "immisible\n"
     ]
    }
   ],
   "source": [
    "def firstColorIdx(beaker):\n",
    "    \"\"\" Get the first color in the beaker if any \"\"\"\n",
    "    temp = [*beaker]\n",
    "    temp.reverse()\n",
    "    \n",
    "    # get the lower most vacant space\n",
    "    last_empty_idx = len(temp) - temp.index(0) - 1 if(0 in beaker)else(-1)\n",
    "    \n",
    "    # get the index of the colored \n",
    "    first_color_idx = last_empty_idx if(len(beaker) == last_empty_idx + 1)else(last_empty_idx + 1)\n",
    "    \n",
    "    return first_color_idx"
   ]
  },
  {
   "cell_type": "code",
   "execution_count": 162,
   "id": "34a48729",
   "metadata": {},
   "outputs": [],
   "source": [
    "a = [0, 0, 0, 0, 2,3, 2, 1,2,3,4, 5, ]\n",
    "\n",
    "\n",
    "def transferLiquid(beaker1, beaker2):\n",
    "    \n",
    "    \"\"\" transfers liquid from beaker 1 to beaker 2\"\"\"\n",
    "\n",
    "    idx1 = firstColorIdx(beaker1)\n",
    "    idx2 = firstColorIdx(beaker2)\n",
    "\n",
    "    col1 = beaker1[idx1]\n",
    "    col2 = beaker2[idx2]\n",
    "\n",
    "    is_miscible = None\n",
    "    if beaker2[-1] == 0:\n",
    "        # Beaker 2 is empty\n",
    "        is_miscible = True\n",
    "        idx2 = 0\n",
    "        \n",
    "    elif (0 in beaker2) and (col1 == col2):\n",
    "        # Beakers 1 and 2 have miscible liquids        \n",
    "        is_miscible = True\n",
    "        \n",
    "    if len(np.unique(beaker2))== 1 and idx1== 0 :\n",
    "        return beaker1, beaker2 \n",
    "    \n",
    "    if is_miscible:\n",
    "        beaker2[idx2 - 1] = col1\n",
    "        beaker1[idx1] = 0\n",
    "        \n",
    "    return beaker1, beaker2 "
   ]
  },
  {
   "cell_type": "code",
   "execution_count": 163,
   "id": "8df1a7e4-6cd6-487d-8173-3b2babdef369",
   "metadata": {},
   "outputs": [
    {
     "data": {
      "text/plain": [
       "([1, 1, 1], [0, 0, 0])"
      ]
     },
     "execution_count": 163,
     "metadata": {},
     "output_type": "execute_result"
    }
   ],
   "source": [
    "bkr1 = [ 0, 0, 0]\n",
    "bkr2 = [ 1, 1, 1]\n",
    "\n",
    "transferLiquid(bkr2, bkr1)"
   ]
  },
  {
   "cell_type": "code",
   "execution_count": 151,
   "id": "8db5901a-fb9e-45ef-8aa9-a071cb2545a6",
   "metadata": {},
   "outputs": [
    {
     "data": {
      "text/plain": [
       "{0}"
      ]
     },
     "execution_count": 151,
     "metadata": {},
     "output_type": "execute_result"
    }
   ],
   "source": [
    "set(bkr1)"
   ]
  },
  {
   "cell_type": "code",
   "execution_count": null,
   "id": "67a6a5c5-1f11-4e71-9c4c-1fdd09ed3f1f",
   "metadata": {},
   "outputs": [],
   "source": []
  }
 ],
 "metadata": {
  "kernelspec": {
   "display_name": "Python 3.8.3 ('base')",
   "language": "python",
   "name": "python3"
  },
  "language_info": {
   "codemirror_mode": {
    "name": "ipython",
    "version": 3
   },
   "file_extension": ".py",
   "mimetype": "text/x-python",
   "name": "python",
   "nbconvert_exporter": "python",
   "pygments_lexer": "ipython3",
   "version": "3.8.3"
  },
  "toc-autonumbering": false,
  "toc-showcode": true,
  "toc-showmarkdowntxt": false,
  "toc-showtags": false,
  "vscode": {
   "interpreter": {
    "hash": "03d30effbfe60b6fb5e088cc3a25898568edff15dcc95d4a3a833e36e2fe5852"
   }
  }
 },
 "nbformat": 4,
 "nbformat_minor": 5
}
